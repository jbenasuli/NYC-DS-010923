{
 "cells": [
  {
   "cell_type": "code",
   "execution_count": 1,
   "id": "23ab5fec",
   "metadata": {},
   "outputs": [],
   "source": [
    "import pandas as pd \n",
    "import matplotlib.pyplot as plt \n",
    "import seaborn as sns \n",
    "import numpy as np "
   ]
  },
  {
   "cell_type": "markdown",
   "id": "dbea4ae4",
   "metadata": {},
   "source": [
    "## pandas "
   ]
  },
  {
   "cell_type": "code",
   "execution_count": 8,
   "id": "3a1f6b79",
   "metadata": {},
   "outputs": [
    {
     "data": {
      "text/plain": [
       "['anagrams',\n",
       " 'anscombe',\n",
       " 'attention',\n",
       " 'brain_networks',\n",
       " 'car_crashes',\n",
       " 'diamonds',\n",
       " 'dots',\n",
       " 'dowjones',\n",
       " 'exercise',\n",
       " 'flights',\n",
       " 'fmri',\n",
       " 'geyser',\n",
       " 'glue',\n",
       " 'healthexp',\n",
       " 'iris',\n",
       " 'mpg',\n",
       " 'penguins',\n",
       " 'planets',\n",
       " 'seaice',\n",
       " 'taxis',\n",
       " 'tips',\n",
       " 'titanic']"
      ]
     },
     "execution_count": 8,
     "metadata": {},
     "output_type": "execute_result"
    }
   ],
   "source": [
    "sns.get_dataset_names()"
   ]
  },
  {
   "cell_type": "code",
   "execution_count": 33,
   "id": "b5742ac0",
   "metadata": {},
   "outputs": [
    {
     "data": {
      "text/html": [
       "<div>\n",
       "<style scoped>\n",
       "    .dataframe tbody tr th:only-of-type {\n",
       "        vertical-align: middle;\n",
       "    }\n",
       "\n",
       "    .dataframe tbody tr th {\n",
       "        vertical-align: top;\n",
       "    }\n",
       "\n",
       "    .dataframe thead th {\n",
       "        text-align: right;\n",
       "    }\n",
       "</style>\n",
       "<table border=\"1\" class=\"dataframe\">\n",
       "  <thead>\n",
       "    <tr style=\"text-align: right;\">\n",
       "      <th></th>\n",
       "      <th>species</th>\n",
       "      <th>island</th>\n",
       "      <th>bill_length_mm</th>\n",
       "      <th>bill_depth_mm</th>\n",
       "      <th>flipper_length_mm</th>\n",
       "      <th>body_mass_g</th>\n",
       "      <th>sex</th>\n",
       "    </tr>\n",
       "  </thead>\n",
       "  <tbody>\n",
       "    <tr>\n",
       "      <th>0</th>\n",
       "      <td>Adelie</td>\n",
       "      <td>Torgersen</td>\n",
       "      <td>39.1</td>\n",
       "      <td>18.7</td>\n",
       "      <td>181.0</td>\n",
       "      <td>3750.0</td>\n",
       "      <td>Male</td>\n",
       "    </tr>\n",
       "    <tr>\n",
       "      <th>1</th>\n",
       "      <td>Adelie</td>\n",
       "      <td>Torgersen</td>\n",
       "      <td>39.5</td>\n",
       "      <td>17.4</td>\n",
       "      <td>186.0</td>\n",
       "      <td>3800.0</td>\n",
       "      <td>Female</td>\n",
       "    </tr>\n",
       "    <tr>\n",
       "      <th>2</th>\n",
       "      <td>Adelie</td>\n",
       "      <td>Torgersen</td>\n",
       "      <td>40.3</td>\n",
       "      <td>18.0</td>\n",
       "      <td>195.0</td>\n",
       "      <td>3250.0</td>\n",
       "      <td>Female</td>\n",
       "    </tr>\n",
       "    <tr>\n",
       "      <th>3</th>\n",
       "      <td>Adelie</td>\n",
       "      <td>Torgersen</td>\n",
       "      <td>NaN</td>\n",
       "      <td>NaN</td>\n",
       "      <td>NaN</td>\n",
       "      <td>NaN</td>\n",
       "      <td>NaN</td>\n",
       "    </tr>\n",
       "    <tr>\n",
       "      <th>4</th>\n",
       "      <td>Adelie</td>\n",
       "      <td>Torgersen</td>\n",
       "      <td>36.7</td>\n",
       "      <td>19.3</td>\n",
       "      <td>193.0</td>\n",
       "      <td>3450.0</td>\n",
       "      <td>Female</td>\n",
       "    </tr>\n",
       "  </tbody>\n",
       "</table>\n",
       "</div>"
      ],
      "text/plain": [
       "  species     island  bill_length_mm  bill_depth_mm  flipper_length_mm  \\\n",
       "0  Adelie  Torgersen            39.1           18.7              181.0   \n",
       "1  Adelie  Torgersen            39.5           17.4              186.0   \n",
       "2  Adelie  Torgersen            40.3           18.0              195.0   \n",
       "3  Adelie  Torgersen             NaN            NaN                NaN   \n",
       "4  Adelie  Torgersen            36.7           19.3              193.0   \n",
       "\n",
       "   body_mass_g     sex  \n",
       "0       3750.0    Male  \n",
       "1       3800.0  Female  \n",
       "2       3250.0  Female  \n",
       "3          NaN     NaN  \n",
       "4       3450.0  Female  "
      ]
     },
     "execution_count": 33,
     "metadata": {},
     "output_type": "execute_result"
    }
   ],
   "source": [
    "penguins_df = sns.load_dataset('penguins')\n",
    "penguins_df.head()"
   ]
  },
  {
   "cell_type": "code",
   "execution_count": 34,
   "id": "261fdf39",
   "metadata": {
    "scrolled": false
   },
   "outputs": [],
   "source": [
    "# get rid of the missing values in bill_depth, \n",
    "# get rid of row 3 \n",
    "penguins_df.drop(4)\n",
    "# convert body mass in grams to body mass in kilo grams   conversion ~ 0.001 \n",
    "penguins_df['body_mass_g'] = (penguins_df['body_mass_g'] * .001)\n",
    "\n",
    "# rename the body mass column \n",
    "penguins_df.rename(columns={'body_mass_g': 'body_mass_kg'}, inplace=True)\n",
    "\n",
    "\n",
    "# look at the distribution of bill length \n",
    "penguins_df.describe()\n",
    "\n",
    "# sns.histplot(x = 'bill_length_mm', hue = 'island', data = penguins_df)\n",
    "\n",
    "# look at the differences in the distribution of bill length between islands \n",
    "# calculate the mean of bill lenth\n",
    "mean_bill_lenth = penguins_df['bill_length_mm'].mean()\n",
    "\n",
    "# create a new column called big billed if the penguin has a bill greater than the median \n",
    "# penguins_df['big_billed'] = penguins_df['bill_length_mm'] > mean_bill_lenth\n",
    "\n",
    "penguins_df['big_billed'] = penguins_df['bill_length_mm'].map(lambda x: 'big' if x > mean_bill_lenth else 'small')"
   ]
  },
  {
   "cell_type": "code",
   "execution_count": 32,
   "id": "81937c0a",
   "metadata": {},
   "outputs": [
    {
     "data": {
      "text/html": [
       "<div>\n",
       "<style scoped>\n",
       "    .dataframe tbody tr th:only-of-type {\n",
       "        vertical-align: middle;\n",
       "    }\n",
       "\n",
       "    .dataframe tbody tr th {\n",
       "        vertical-align: top;\n",
       "    }\n",
       "\n",
       "    .dataframe thead th {\n",
       "        text-align: right;\n",
       "    }\n",
       "</style>\n",
       "<table border=\"1\" class=\"dataframe\">\n",
       "  <thead>\n",
       "    <tr style=\"text-align: right;\">\n",
       "      <th></th>\n",
       "      <th>species</th>\n",
       "      <th>island</th>\n",
       "      <th>bill_length_mm</th>\n",
       "      <th>bill_depth_mm</th>\n",
       "      <th>flipper_length_mm</th>\n",
       "      <th>body_mass_kg</th>\n",
       "      <th>sex</th>\n",
       "      <th>big_billed</th>\n",
       "    </tr>\n",
       "  </thead>\n",
       "  <tbody>\n",
       "    <tr>\n",
       "      <th>0</th>\n",
       "      <td>Adelie</td>\n",
       "      <td>Torgersen</td>\n",
       "      <td>39.1</td>\n",
       "      <td>18.7</td>\n",
       "      <td>181.0</td>\n",
       "      <td>0.00375</td>\n",
       "      <td>Male</td>\n",
       "      <td>small</td>\n",
       "    </tr>\n",
       "    <tr>\n",
       "      <th>1</th>\n",
       "      <td>Adelie</td>\n",
       "      <td>Torgersen</td>\n",
       "      <td>39.5</td>\n",
       "      <td>17.4</td>\n",
       "      <td>186.0</td>\n",
       "      <td>0.00380</td>\n",
       "      <td>Female</td>\n",
       "      <td>small</td>\n",
       "    </tr>\n",
       "    <tr>\n",
       "      <th>2</th>\n",
       "      <td>Adelie</td>\n",
       "      <td>Torgersen</td>\n",
       "      <td>40.3</td>\n",
       "      <td>18.0</td>\n",
       "      <td>195.0</td>\n",
       "      <td>0.00325</td>\n",
       "      <td>Female</td>\n",
       "      <td>small</td>\n",
       "    </tr>\n",
       "    <tr>\n",
       "      <th>3</th>\n",
       "      <td>Adelie</td>\n",
       "      <td>Torgersen</td>\n",
       "      <td>NaN</td>\n",
       "      <td>NaN</td>\n",
       "      <td>NaN</td>\n",
       "      <td>NaN</td>\n",
       "      <td>NaN</td>\n",
       "      <td>small</td>\n",
       "    </tr>\n",
       "    <tr>\n",
       "      <th>4</th>\n",
       "      <td>Adelie</td>\n",
       "      <td>Torgersen</td>\n",
       "      <td>36.7</td>\n",
       "      <td>19.3</td>\n",
       "      <td>193.0</td>\n",
       "      <td>0.00345</td>\n",
       "      <td>Female</td>\n",
       "      <td>small</td>\n",
       "    </tr>\n",
       "    <tr>\n",
       "      <th>...</th>\n",
       "      <td>...</td>\n",
       "      <td>...</td>\n",
       "      <td>...</td>\n",
       "      <td>...</td>\n",
       "      <td>...</td>\n",
       "      <td>...</td>\n",
       "      <td>...</td>\n",
       "      <td>...</td>\n",
       "    </tr>\n",
       "    <tr>\n",
       "      <th>339</th>\n",
       "      <td>Gentoo</td>\n",
       "      <td>Biscoe</td>\n",
       "      <td>NaN</td>\n",
       "      <td>NaN</td>\n",
       "      <td>NaN</td>\n",
       "      <td>NaN</td>\n",
       "      <td>NaN</td>\n",
       "      <td>small</td>\n",
       "    </tr>\n",
       "    <tr>\n",
       "      <th>340</th>\n",
       "      <td>Gentoo</td>\n",
       "      <td>Biscoe</td>\n",
       "      <td>46.8</td>\n",
       "      <td>14.3</td>\n",
       "      <td>215.0</td>\n",
       "      <td>0.00485</td>\n",
       "      <td>Female</td>\n",
       "      <td>big</td>\n",
       "    </tr>\n",
       "    <tr>\n",
       "      <th>341</th>\n",
       "      <td>Gentoo</td>\n",
       "      <td>Biscoe</td>\n",
       "      <td>50.4</td>\n",
       "      <td>15.7</td>\n",
       "      <td>222.0</td>\n",
       "      <td>0.00575</td>\n",
       "      <td>Male</td>\n",
       "      <td>big</td>\n",
       "    </tr>\n",
       "    <tr>\n",
       "      <th>342</th>\n",
       "      <td>Gentoo</td>\n",
       "      <td>Biscoe</td>\n",
       "      <td>45.2</td>\n",
       "      <td>14.8</td>\n",
       "      <td>212.0</td>\n",
       "      <td>0.00520</td>\n",
       "      <td>Female</td>\n",
       "      <td>big</td>\n",
       "    </tr>\n",
       "    <tr>\n",
       "      <th>343</th>\n",
       "      <td>Gentoo</td>\n",
       "      <td>Biscoe</td>\n",
       "      <td>49.9</td>\n",
       "      <td>16.1</td>\n",
       "      <td>213.0</td>\n",
       "      <td>0.00540</td>\n",
       "      <td>Male</td>\n",
       "      <td>big</td>\n",
       "    </tr>\n",
       "  </tbody>\n",
       "</table>\n",
       "<p>344 rows × 8 columns</p>\n",
       "</div>"
      ],
      "text/plain": [
       "    species     island  bill_length_mm  bill_depth_mm  flipper_length_mm  \\\n",
       "0    Adelie  Torgersen            39.1           18.7              181.0   \n",
       "1    Adelie  Torgersen            39.5           17.4              186.0   \n",
       "2    Adelie  Torgersen            40.3           18.0              195.0   \n",
       "3    Adelie  Torgersen             NaN            NaN                NaN   \n",
       "4    Adelie  Torgersen            36.7           19.3              193.0   \n",
       "..      ...        ...             ...            ...                ...   \n",
       "339  Gentoo     Biscoe             NaN            NaN                NaN   \n",
       "340  Gentoo     Biscoe            46.8           14.3              215.0   \n",
       "341  Gentoo     Biscoe            50.4           15.7              222.0   \n",
       "342  Gentoo     Biscoe            45.2           14.8              212.0   \n",
       "343  Gentoo     Biscoe            49.9           16.1              213.0   \n",
       "\n",
       "     body_mass_kg     sex big_billed  \n",
       "0         0.00375    Male      small  \n",
       "1         0.00380  Female      small  \n",
       "2         0.00325  Female      small  \n",
       "3             NaN     NaN      small  \n",
       "4         0.00345  Female      small  \n",
       "..            ...     ...        ...  \n",
       "339           NaN     NaN      small  \n",
       "340       0.00485  Female        big  \n",
       "341       0.00575    Male        big  \n",
       "342       0.00520  Female        big  \n",
       "343       0.00540    Male        big  \n",
       "\n",
       "[344 rows x 8 columns]"
      ]
     },
     "execution_count": 32,
     "metadata": {},
     "output_type": "execute_result"
    }
   ],
   "source": [
    "penguins_df"
   ]
  },
  {
   "cell_type": "code",
   "execution_count": 37,
   "id": "c7006e2a",
   "metadata": {},
   "outputs": [
    {
     "data": {
      "text/html": [
       "<div>\n",
       "<style scoped>\n",
       "    .dataframe tbody tr th:only-of-type {\n",
       "        vertical-align: middle;\n",
       "    }\n",
       "\n",
       "    .dataframe tbody tr th {\n",
       "        vertical-align: top;\n",
       "    }\n",
       "\n",
       "    .dataframe thead th {\n",
       "        text-align: right;\n",
       "    }\n",
       "</style>\n",
       "<table border=\"1\" class=\"dataframe\">\n",
       "  <thead>\n",
       "    <tr style=\"text-align: right;\">\n",
       "      <th></th>\n",
       "      <th>Model</th>\n",
       "      <th>Year</th>\n",
       "      <th>Encoder</th>\n",
       "      <th>Task</th>\n",
       "      <th>Score</th>\n",
       "    </tr>\n",
       "  </thead>\n",
       "  <tbody>\n",
       "    <tr>\n",
       "      <th>0</th>\n",
       "      <td>ERNIE</td>\n",
       "      <td>2019</td>\n",
       "      <td>Transformer</td>\n",
       "      <td>CoLA</td>\n",
       "      <td>75.5</td>\n",
       "    </tr>\n",
       "    <tr>\n",
       "      <th>1</th>\n",
       "      <td>T5</td>\n",
       "      <td>2019</td>\n",
       "      <td>Transformer</td>\n",
       "      <td>CoLA</td>\n",
       "      <td>71.6</td>\n",
       "    </tr>\n",
       "    <tr>\n",
       "      <th>2</th>\n",
       "      <td>RoBERTa</td>\n",
       "      <td>2019</td>\n",
       "      <td>Transformer</td>\n",
       "      <td>CoLA</td>\n",
       "      <td>67.8</td>\n",
       "    </tr>\n",
       "    <tr>\n",
       "      <th>3</th>\n",
       "      <td>BERT</td>\n",
       "      <td>2018</td>\n",
       "      <td>Transformer</td>\n",
       "      <td>CoLA</td>\n",
       "      <td>60.5</td>\n",
       "    </tr>\n",
       "    <tr>\n",
       "      <th>4</th>\n",
       "      <td>BiLSTM+ELMo</td>\n",
       "      <td>2018</td>\n",
       "      <td>LSTM</td>\n",
       "      <td>CoLA</td>\n",
       "      <td>32.1</td>\n",
       "    </tr>\n",
       "    <tr>\n",
       "      <th>...</th>\n",
       "      <td>...</td>\n",
       "      <td>...</td>\n",
       "      <td>...</td>\n",
       "      <td>...</td>\n",
       "      <td>...</td>\n",
       "    </tr>\n",
       "    <tr>\n",
       "      <th>59</th>\n",
       "      <td>BERT</td>\n",
       "      <td>2018</td>\n",
       "      <td>Transformer</td>\n",
       "      <td>RTE</td>\n",
       "      <td>70.1</td>\n",
       "    </tr>\n",
       "    <tr>\n",
       "      <th>60</th>\n",
       "      <td>BiLSTM+ELMo</td>\n",
       "      <td>2018</td>\n",
       "      <td>LSTM</td>\n",
       "      <td>RTE</td>\n",
       "      <td>57.4</td>\n",
       "    </tr>\n",
       "    <tr>\n",
       "      <th>61</th>\n",
       "      <td>BiLSTM+CoVe</td>\n",
       "      <td>2017</td>\n",
       "      <td>LSTM</td>\n",
       "      <td>RTE</td>\n",
       "      <td>52.7</td>\n",
       "    </tr>\n",
       "    <tr>\n",
       "      <th>62</th>\n",
       "      <td>BiLSTM+Attn</td>\n",
       "      <td>2017</td>\n",
       "      <td>LSTM</td>\n",
       "      <td>RTE</td>\n",
       "      <td>58.4</td>\n",
       "    </tr>\n",
       "    <tr>\n",
       "      <th>63</th>\n",
       "      <td>BiLSTM</td>\n",
       "      <td>2017</td>\n",
       "      <td>LSTM</td>\n",
       "      <td>RTE</td>\n",
       "      <td>57.4</td>\n",
       "    </tr>\n",
       "  </tbody>\n",
       "</table>\n",
       "<p>64 rows × 5 columns</p>\n",
       "</div>"
      ],
      "text/plain": [
       "          Model  Year      Encoder  Task  Score\n",
       "0         ERNIE  2019  Transformer  CoLA   75.5\n",
       "1            T5  2019  Transformer  CoLA   71.6\n",
       "2       RoBERTa  2019  Transformer  CoLA   67.8\n",
       "3          BERT  2018  Transformer  CoLA   60.5\n",
       "4   BiLSTM+ELMo  2018         LSTM  CoLA   32.1\n",
       "..          ...   ...          ...   ...    ...\n",
       "59         BERT  2018  Transformer   RTE   70.1\n",
       "60  BiLSTM+ELMo  2018         LSTM   RTE   57.4\n",
       "61  BiLSTM+CoVe  2017         LSTM   RTE   52.7\n",
       "62  BiLSTM+Attn  2017         LSTM   RTE   58.4\n",
       "63       BiLSTM  2017         LSTM   RTE   57.4\n",
       "\n",
       "[64 rows x 5 columns]"
      ]
     },
     "execution_count": 37,
     "metadata": {},
     "output_type": "execute_result"
    }
   ],
   "source": [
    "glue_df = sns.load_dataset('glue')\n",
    "glue_df"
   ]
  },
  {
   "cell_type": "code",
   "execution_count": 41,
   "id": "f3d6f82d",
   "metadata": {},
   "outputs": [
    {
     "name": "stderr",
     "output_type": "stream",
     "text": [
      "/var/folders/wf/s7j2jn9j1ns035j4rx9g3rzr0000gn/T/ipykernel_63992/2295478198.py:1: FutureWarning: The default value of numeric_only in DataFrameGroupBy.mean is deprecated. In a future version, numeric_only will default to False. Either specify numeric_only or select only columns which should be valid for the function.\n",
      "  average_score_year = glue_df.groupby('Year').mean()\n"
     ]
    },
    {
     "data": {
      "text/html": [
       "<div>\n",
       "<style scoped>\n",
       "    .dataframe tbody tr th:only-of-type {\n",
       "        vertical-align: middle;\n",
       "    }\n",
       "\n",
       "    .dataframe tbody tr th {\n",
       "        vertical-align: top;\n",
       "    }\n",
       "\n",
       "    .dataframe thead th {\n",
       "        text-align: right;\n",
       "    }\n",
       "</style>\n",
       "<table border=\"1\" class=\"dataframe\">\n",
       "  <thead>\n",
       "    <tr style=\"text-align: right;\">\n",
       "      <th></th>\n",
       "      <th>Score</th>\n",
       "    </tr>\n",
       "    <tr>\n",
       "      <th>Year</th>\n",
       "      <th></th>\n",
       "    </tr>\n",
       "  </thead>\n",
       "  <tbody>\n",
       "    <tr>\n",
       "      <th>2017</th>\n",
       "      <td>63.26250</td>\n",
       "    </tr>\n",
       "    <tr>\n",
       "      <th>2018</th>\n",
       "      <td>74.46875</td>\n",
       "    </tr>\n",
       "    <tr>\n",
       "      <th>2019</th>\n",
       "      <td>88.63750</td>\n",
       "    </tr>\n",
       "  </tbody>\n",
       "</table>\n",
       "</div>"
      ],
      "text/plain": [
       "         Score\n",
       "Year          \n",
       "2017  63.26250\n",
       "2018  74.46875\n",
       "2019  88.63750"
      ]
     },
     "execution_count": 41,
     "metadata": {},
     "output_type": "execute_result"
    }
   ],
   "source": [
    "average_score_year = glue_df.groupby('Year').mean()\n",
    "average_score_year"
   ]
  },
  {
   "cell_type": "code",
   "execution_count": 43,
   "id": "aa274131",
   "metadata": {},
   "outputs": [
    {
     "name": "stderr",
     "output_type": "stream",
     "text": [
      "/var/folders/wf/s7j2jn9j1ns035j4rx9g3rzr0000gn/T/ipykernel_63992/326537886.py:2: FutureWarning: The default value of numeric_only in DataFrameGroupBy.mean is deprecated. In a future version, numeric_only will default to False. Either specify numeric_only or select only columns which should be valid for the function.\n",
      "  average_score_year = glue_df.groupby('Year').mean().plot(kind='bar')\n"
     ]
    },
    {
     "data": {
      "image/png": "[encoded data removed]",
      "text/plain": [
       "<Figure size 640x480 with 1 Axes>"
      ]
     },
     "metadata": {},
     "output_type": "display_data"
    }
   ],
   "source": [
    "# plot a bar graph with matplotlib and seaborn of the average score per year \n",
    "average_score_year = glue_df.groupby('Year').mean().plot(kind='bar')\n",
    "# add titles and axis \n",
    "\n",
    "# find the model with the lowest score\n",
    "# find the most occuring model in the data set \n"
   ]
  },
  {
   "cell_type": "code",
   "execution_count": 51,
   "id": "a3cfc3a9",
   "metadata": {},
   "outputs": [
    {
     "data": {
      "text/html": [
       "<div>\n",
       "<style scoped>\n",
       "    .dataframe tbody tr th:only-of-type {\n",
       "        vertical-align: middle;\n",
       "    }\n",
       "\n",
       "    .dataframe tbody tr th {\n",
       "        vertical-align: top;\n",
       "    }\n",
       "\n",
       "    .dataframe thead th {\n",
       "        text-align: right;\n",
       "    }\n",
       "</style>\n",
       "<table border=\"1\" class=\"dataframe\">\n",
       "  <thead>\n",
       "    <tr style=\"text-align: right;\">\n",
       "      <th></th>\n",
       "      <th>Model</th>\n",
       "      <th>Year</th>\n",
       "      <th>Encoder</th>\n",
       "      <th>Task</th>\n",
       "      <th>Score</th>\n",
       "    </tr>\n",
       "  </thead>\n",
       "  <tbody>\n",
       "    <tr>\n",
       "      <th>7</th>\n",
       "      <td>BiLSTM</td>\n",
       "      <td>2017</td>\n",
       "      <td>LSTM</td>\n",
       "      <td>CoLA</td>\n",
       "      <td>11.6</td>\n",
       "    </tr>\n",
       "  </tbody>\n",
       "</table>\n",
       "</div>"
      ],
      "text/plain": [
       "    Model  Year Encoder  Task  Score\n",
       "7  BiLSTM  2017    LSTM  CoLA   11.6"
      ]
     },
     "execution_count": 51,
     "metadata": {},
     "output_type": "execute_result"
    }
   ],
   "source": [
    "lowest_score = glue_df.sort_values(by ='Score', ascending = True).head(1)\n",
    "lowest_score"
   ]
  },
  {
   "cell_type": "code",
   "execution_count": 55,
   "id": "a868b8e4",
   "metadata": {},
   "outputs": [
    {
     "data": {
      "text/plain": [
       "ERNIE          8\n",
       "T5             8\n",
       "RoBERTa        8\n",
       "BERT           8\n",
       "BiLSTM+ELMo    8\n",
       "BiLSTM+CoVe    8\n",
       "BiLSTM+Attn    8\n",
       "BiLSTM         8\n",
       "Name: Model, dtype: int64"
      ]
     },
     "execution_count": 55,
     "metadata": {},
     "output_type": "execute_result"
    }
   ],
   "source": [
    "most_frequent = glue_df['Model'].value_counts()\n",
    "most_frequent"
   ]
  },
  {
   "cell_type": "code",
   "execution_count": null,
   "id": "09d3e3ea",
   "metadata": {},
   "outputs": [],
   "source": [
    "sns.barplot(x = average_score_year)"
   ]
  },
  {
   "cell_type": "code",
   "execution_count": null,
   "id": "82ac9a45",
   "metadata": {},
   "outputs": [],
   "source": [
    "# alternate option\n",
    "sns.barplot(x='Year', y='Score', data=glue_df)\n"
   ]
  },
  {
   "cell_type": "code",
   "execution_count": 59,
   "id": "a25c71a8",
   "metadata": {},
   "outputs": [],
   "source": [
    "iris_df = sns.load_dataset('iris')"
   ]
  },
  {
   "cell_type": "code",
   "execution_count": 63,
   "id": "a47cb8d0",
   "metadata": {},
   "outputs": [
    {
     "data": {
      "text/plain": [
       "species\n",
       "setosa        4.4\n",
       "versicolor    3.4\n",
       "virginica     3.8\n",
       "Name: sepal_width, dtype: float64"
      ]
     },
     "execution_count": 63,
     "metadata": {},
     "output_type": "execute_result"
    }
   ],
   "source": [
    "# find the virginica flower with the largest sepal width \n",
    "largest_sepal_width = iris_df.groupby('species')['sepal_width'].max()\n",
    "largest_sepal_width"
   ]
  },
  {
   "cell_type": "code",
   "execution_count": 64,
   "id": "09857d3a",
   "metadata": {},
   "outputs": [
    {
     "data": {
      "text/html": [
       "<div>\n",
       "<style scoped>\n",
       "    .dataframe tbody tr th:only-of-type {\n",
       "        vertical-align: middle;\n",
       "    }\n",
       "\n",
       "    .dataframe tbody tr th {\n",
       "        vertical-align: top;\n",
       "    }\n",
       "\n",
       "    .dataframe thead th {\n",
       "        text-align: right;\n",
       "    }\n",
       "</style>\n",
       "<table border=\"1\" class=\"dataframe\">\n",
       "  <thead>\n",
       "    <tr style=\"text-align: right;\">\n",
       "      <th></th>\n",
       "      <th>sepal_length</th>\n",
       "      <th>sepal_width</th>\n",
       "      <th>petal_length</th>\n",
       "      <th>petal_width</th>\n",
       "      <th>species</th>\n",
       "    </tr>\n",
       "  </thead>\n",
       "  <tbody>\n",
       "    <tr>\n",
       "      <th>131</th>\n",
       "      <td>7.9</td>\n",
       "      <td>3.8</td>\n",
       "      <td>6.4</td>\n",
       "      <td>2.0</td>\n",
       "      <td>virginica</td>\n",
       "    </tr>\n",
       "  </tbody>\n",
       "</table>\n",
       "</div>"
      ],
      "text/plain": [
       "     sepal_length  sepal_width  petal_length  petal_width    species\n",
       "131           7.9          3.8           6.4          2.0  virginica"
      ]
     },
     "execution_count": 64,
     "metadata": {},
     "output_type": "execute_result"
    }
   ],
   "source": [
    "iris_df.loc[iris_df['species'] == 'virginica'].sort_values(by='sepal_width', ascending=False).head(1)"
   ]
  },
  {
   "cell_type": "code",
   "execution_count": null,
   "id": "b55bd343",
   "metadata": {},
   "outputs": [],
   "source": [
    "# virginica_df = iris_df[iris_df['species'] == 'virginica']\n",
    "\n",
    "# virginica_df = "
   ]
  },
  {
   "cell_type": "code",
   "execution_count": 65,
   "id": "b7ab1d3d",
   "metadata": {},
   "outputs": [
    {
     "data": {
      "text/html": [
       "<div>\n",
       "<style scoped>\n",
       "    .dataframe tbody tr th:only-of-type {\n",
       "        vertical-align: middle;\n",
       "    }\n",
       "\n",
       "    .dataframe tbody tr th {\n",
       "        vertical-align: top;\n",
       "    }\n",
       "\n",
       "    .dataframe thead th {\n",
       "        text-align: right;\n",
       "    }\n",
       "</style>\n",
       "<table border=\"1\" class=\"dataframe\">\n",
       "  <thead>\n",
       "    <tr style=\"text-align: right;\">\n",
       "      <th></th>\n",
       "      <th>sepal_length</th>\n",
       "      <th>sepal_width</th>\n",
       "      <th>petal_length</th>\n",
       "      <th>petal_width</th>\n",
       "      <th>species</th>\n",
       "    </tr>\n",
       "  </thead>\n",
       "  <tbody>\n",
       "    <tr>\n",
       "      <th>131</th>\n",
       "      <td>7.9</td>\n",
       "      <td>3.8</td>\n",
       "      <td>6.4</td>\n",
       "      <td>2.0</td>\n",
       "      <td>virginica</td>\n",
       "    </tr>\n",
       "  </tbody>\n",
       "</table>\n",
       "</div>"
      ],
      "text/plain": [
       "     sepal_length  sepal_width  petal_length  petal_width    species\n",
       "131           7.9          3.8           6.4          2.0  virginica"
      ]
     },
     "execution_count": 65,
     "metadata": {},
     "output_type": "execute_result"
    }
   ],
   "source": [
    "iris_df[iris_df['species'] == 'virginica'].sort_values(by='sepal_width', ascending=False).head(1)"
   ]
  },
  {
   "cell_type": "code",
   "execution_count": 69,
   "id": "1f262a1a",
   "metadata": {},
   "outputs": [],
   "source": [
    "cars_dict = {\n",
    "  \"brand\": \"Ford\",\n",
    "  \"model\": \"Mustang\",\n",
    "  \"year\": 1964\n",
    "}\n",
    "\n",
    "# convert the keys in this dictionary to a list\n",
    "cars = list(cars_dict.keys())"
   ]
  },
  {
   "cell_type": "code",
   "execution_count": 70,
   "id": "4d2c44e5",
   "metadata": {},
   "outputs": [
    {
     "data": {
      "text/plain": [
       "['Ford', 'Mustang', 1964]"
      ]
     },
     "execution_count": 70,
     "metadata": {},
     "output_type": "execute_result"
    }
   ],
   "source": [
    "info = list(cars_dict.values())\n",
    "info"
   ]
  },
  {
   "cell_type": "code",
   "execution_count": 72,
   "id": "29fadcaf",
   "metadata": {},
   "outputs": [
    {
     "data": {
      "text/plain": [
       "[('Ford', 'brand'), ('Mustang', 'model'), (1964, 'year')]"
      ]
     },
     "execution_count": 72,
     "metadata": {},
     "output_type": "execute_result"
    }
   ],
   "source": [
    "list(zip(info, cars))"
   ]
  },
  {
   "cell_type": "markdown",
   "id": "f9d53085",
   "metadata": {},
   "source": [
    "## JSONS "
   ]
  },
  {
   "cell_type": "code",
   "execution_count": 6,
   "id": "9c819295",
   "metadata": {},
   "outputs": [],
   "source": [
    "\n",
    "\n",
    "\n",
    "data =[ \n",
    "   { \n",
    "      \"id\":1,\n",
    "      \"name\":\"cridmas\",\n",
    "      \"color\":[ \n",
    "         \"red\",\n",
    "         \"green\"\n",
    "      ]\n",
    "   },\n",
    "   { \n",
    "      \"id\":2,\n",
    "      \"name\":\"Rocco\",\n",
    "      \"color\":[ \n",
    "         \"pink\",\n",
    "         \"yellow\"\n",
    "      ]\n",
    "   }\n",
    "]"
   ]
  },
  {
   "cell_type": "code",
   "execution_count": 7,
   "id": "9cf1df34",
   "metadata": {},
   "outputs": [
    {
     "name": "stdout",
     "output_type": "stream",
     "text": [
      "[dict_values([1, 'cridmas', ['red', 'green']]), dict_values([2, 'Rocco', ['pink', 'yellow']])]\n"
     ]
    }
   ],
   "source": [
    "# create a list of all the values in this dictionary \n",
    "values_list = []\n",
    "for x in data:\n",
    "    values_list.append(x.values())\n",
    "print(values_list)"
   ]
  },
  {
   "cell_type": "code",
   "execution_count": 8,
   "id": "15a4d6ae",
   "metadata": {},
   "outputs": [
    {
     "data": {
      "text/plain": [
       "['pink', 'yellow']"
      ]
     },
     "execution_count": 8,
     "metadata": {},
     "output_type": "execute_result"
    }
   ],
   "source": [
    "[data[0]['color'][1],data[1]['color']][1]"
   ]
  },
  {
   "cell_type": "code",
   "execution_count": null,
   "id": "a488ec5d",
   "metadata": {},
   "outputs": [],
   "source": []
  },
  {
   "cell_type": "code",
   "execution_count": 9,
   "id": "3f33029c",
   "metadata": {},
   "outputs": [
    {
     "name": "stdout",
     "output_type": "stream",
     "text": [
      "[{'id': 1, 'name': 'cridmas', 'color': ['red', 'green']}, {'id': 2, 'name': 'Rocco', 'color': ['red', 'yellow']}]\n"
     ]
    }
   ],
   "source": [
    "for dic in data:\n",
    "    dic['color'][0] = 'red'\n",
    "\n",
    "print(data)"
   ]
  },
  {
   "cell_type": "code",
   "execution_count": 11,
   "id": "fabf4f90",
   "metadata": {},
   "outputs": [
    {
     "name": "stdout",
     "output_type": "stream",
     "text": [
      "[{'id': 1, 'name': 'cridmas', 'color': 'yellow'}, {'id': 2, 'name': 'Rocco', 'color': 'yellow'}]\n"
     ]
    }
   ],
   "source": [
    "for dic in data[0:]:\n",
    "    dic['color'] = 'yellow'\n",
    "    dic['color'] = 'yellow'\n",
    "print(data)"
   ]
  },
  {
   "cell_type": "code",
   "execution_count": 111,
   "id": "a6494238",
   "metadata": {},
   "outputs": [
    {
     "data": {
      "text/plain": [
       "['cridmas', 'Rocco']"
      ]
     },
     "execution_count": 111,
     "metadata": {},
     "output_type": "execute_result"
    }
   ],
   "source": [
    "# list both names\n",
    "[data[0]['name'],data[1]['name']]"
   ]
  },
  {
   "cell_type": "code",
   "execution_count": 112,
   "id": "b3b3bd71",
   "metadata": {},
   "outputs": [
    {
     "data": {
      "text/plain": [
       "('cridmas', 'Rocco')"
      ]
     },
     "execution_count": 112,
     "metadata": {},
     "output_type": "execute_result"
    }
   ],
   "source": [
    "# or\n",
    "tuple([data[0]['name'], data[1]['name']])"
   ]
  },
  {
   "cell_type": "code",
   "execution_count": 115,
   "id": "52646552",
   "metadata": {},
   "outputs": [],
   "source": [
    "import json\n",
    "\n",
    "sampleJson = \"\"\"{ \n",
    "   \"company\":{ \n",
    "      \"employee\":{ \n",
    "         \"name\":\"emma\",\n",
    "         \"payble\":{ \n",
    "            \"salary\":7000,\n",
    "            \"bonus\":800\n",
    "         }\n",
    "      }\n",
    "   }\n",
    "}\"\"\"\n",
    "\n",
    "data = json.loads(sampleJson)"
   ]
  },
  {
   "cell_type": "code",
   "execution_count": 117,
   "id": "9a700da2",
   "metadata": {},
   "outputs": [
    {
     "data": {
      "text/plain": [
       "{'company': {'employee': {'name': 'emma',\n",
       "   'payble': {'salary': 7000, 'bonus': 800}}}}"
      ]
     },
     "execution_count": 117,
     "metadata": {},
     "output_type": "execute_result"
    }
   ],
   "source": [
    "data"
   ]
  },
  {
   "cell_type": "code",
   "execution_count": 120,
   "id": "9701c492",
   "metadata": {},
   "outputs": [
    {
     "data": {
      "text/plain": [
       "'emma'"
      ]
     },
     "execution_count": 120,
     "metadata": {},
     "output_type": "execute_result"
    }
   ],
   "source": [
    "# get me the name emma from the json\n",
    "name = data['company']['employee']['name']\n",
    "name"
   ]
  },
  {
   "cell_type": "code",
   "execution_count": 123,
   "id": "2e383733",
   "metadata": {},
   "outputs": [
    {
     "data": {
      "text/plain": [
       "7000"
      ]
     },
     "execution_count": 123,
     "metadata": {},
     "output_type": "execute_result"
    }
   ],
   "source": [
    "# get emma salary and assign it to a variable \n",
    "salary = data['company']['employee']['payble']['salary']\n",
    "salary"
   ]
  },
  {
   "cell_type": "code",
   "execution_count": 127,
   "id": "46364c7b",
   "metadata": {},
   "outputs": [
    {
     "data": {
      "text/plain": [
       "{'company': {'employee': {'name': 'emma',\n",
       "   'payble': {'salary': 7000, 'bonus': 800, 'combined': 7800}}}}"
      ]
     },
     "execution_count": 127,
     "metadata": {},
     "output_type": "execute_result"
    }
   ],
   "source": [
    "# add emmas salary and bonus together + add in key-value pair\n",
    "data['company']['employee']['payble']['combined'] = data['company']['employee']['payble']['salary'] + data['company']['employee']['payble']['bonus']\n",
    "data"
   ]
  },
  {
   "cell_type": "code",
   "execution_count": null,
   "id": "b3f61571",
   "metadata": {},
   "outputs": [],
   "source": []
  },
  {
   "cell_type": "code",
   "execution_count": null,
   "id": "1db971ac",
   "metadata": {},
   "outputs": [],
   "source": [
    "(data['company']['employee']['payble']['salary'])"
   ]
  },
  {
   "cell_type": "code",
   "execution_count": null,
   "id": "fc594fa9",
   "metadata": {},
   "outputs": [],
   "source": []
  },
  {
   "cell_type": "code",
   "execution_count": 16,
   "id": "f5187e68",
   "metadata": {},
   "outputs": [],
   "source": [
    "data = [{\"code\":\"Company1\",\"exchange_short_name\":\"ST\",\"date\":\"2000-01-01\"},\n",
    "{\"code\":\"Company2\",\"exchange_short_name\":\"ST\",\"date\":\"2000-01-01\"}]"
   ]
  },
  {
   "cell_type": "code",
   "execution_count": 18,
   "id": "5791e544",
   "metadata": {},
   "outputs": [
    {
     "name": "stdout",
     "output_type": "stream",
     "text": [
      "2000-01-01\n",
      "2000-01-01\n"
     ]
    }
   ],
   "source": [
    "# print the date from each dictionary in a loop \n",
    "\n",
    "for dictionary in data:\n",
    "    print(dictionary['date'])"
   ]
  },
  {
   "cell_type": "code",
   "execution_count": null,
   "id": "eb3bde1d",
   "metadata": {},
   "outputs": [],
   "source": []
  },
  {
   "cell_type": "code",
   "execution_count": 128,
   "id": "eff81e24",
   "metadata": {},
   "outputs": [],
   "source": [
    "data2={\n",
    "    \"updated\": \"2020-07-09\",\n",
    "    \"versions\": [\n",
    "        {\n",
    "            \"family\": \"macOS\",\n",
    "            \"version\": \"10.14\",\n",
    "            \"codename\": \"Mojave\",\n",
    "            \"announced\":\"2018-06-04\",\n",
    "            \"released\": \"2018-09-24\",\n",
    "            \"requirements\": [\n",
    "                \"iMac (Late 2012 or newer)\",\n",
    "                \"iMac Pro (2017)\",\n",
    "                \"Mac Mini (Late 2012 or newer)\",\n",
    "                \"Mac Pro (Late 2013; Mid 2010 and Mid 2012 models with recommended Metal-capable graphics cards)\",\n",
    "                \"MacBook (Early 2015 or newer)\",\n",
    "                \"MacBook Air (Mid 2012 or newer)\",\n",
    "                \"MacBook Pro (Mid 2012 or newer)\",\n",
    "                \"2 GB of memory\",\n",
    "                \"12.5 - 18.5 GB of available avaialable disk space\",\n",
    "                \"OS X 10.8 or later\"\n",
    "            ],\n",
    "            \"releases\": [\n",
    "                {\n",
    "                    \"version\": \"10.14\",\n",
    "                    \"build\": \"18A391\",\n",
    "                    \"darwin\": \"18.0.0\",\n",
    "                    \"released\": \"2018-09-24\"\n",
    "                },\n",
    "                {\n",
    "                    \"version\": \"10.14.1\",\n",
    "                    \"build\": \"18B75\",\n",
    "                    \"darwin\": \"18.2.0\",\n",
    "                    \"released\": \"2018-10-30\"\n",
    "                },\n",
    "                {\n",
    "                    \"version\": \"10.14.2\",\n",
    "                    \"build\": \"18C54\",\n",
    "                    \"darwin\": \"18.2.0\",\n",
    "                    \"released\": \"2018-12-05\"\n",
    "                },\n",
    "                {\n",
    "                    \"version\": \"10.14.3\",\n",
    "                    \"build\": \"18D42\",\n",
    "                    \"darwin\": \"18.2.0\",\n",
    "                    \"released\": \"2019-01-22\"\n",
    "                },\n",
    "                {\n",
    "                    \"version\": \"10.14.4\",\n",
    "                    \"build\": \"18E226\",\n",
    "                    \"darwin\": \"18.5.0\",\n",
    "                    \"released\": \"2019-03-25\"\n",
    "                },\n",
    "                {\n",
    "                    \"version\": \"10.14.5\",\n",
    "                    \"build\": \"18F132\",\n",
    "                    \"darwin\": \"18.6.0\",\n",
    "                    \"released\": \"2019-05-13\"\n",
    "                },\n",
    "                {\n",
    "                    \"version\": \"10.14.6\",\n",
    "                    \"build\": \"18G84\",\n",
    "                    \"darwin\": \"18.7.0\",\n",
    "                    \"released\": \"2019-07-22\"\n",
    "                }\n",
    "            ]\n",
    "        },\n",
    "        {\n",
    "            \"family\": \"macOS\",\n",
    "            \"version\": \"10.15\",\n",
    "            \"codename\": \"Catalina\",\n",
    "            \"announced\":\"2019-06-03\",\n",
    "            \"released\": \"2019-10-07\",\n",
    "            \"requirements\": [\n",
    "                \"iMac (Late 2012 or newer)\",\n",
    "                \"iMac Pro (2017)\",\n",
    "                \"Mac Mini (Late 2012 or newer)\",\n",
    "                \"Mac Pro (Late 2013)\",\n",
    "                \"MacBook (Early 2015 or newer)\",\n",
    "                \"MacBook Air (Mid 2012 or newer)\",\n",
    "                \"MacBook Pro (Mid 2012 or newer)\",\n",
    "                \"4 GB of memory\",\n",
    "                \"12.5 GB of available avaialable disk space\",\n",
    "                \"OS X 10.11.5 or later\"\n",
    "            ],\n",
    "            \"releases\": [\n",
    "                {\n",
    "                    \"version\": \"10.15\",\n",
    "                    \"build\": \"19A583\",\n",
    "                    \"darwin\": \"19.0.0\",\n",
    "                    \"released\": \"2019-10-07\"\n",
    "                },\n",
    "                {\n",
    "                    \"version\": \"10.15.1\",\n",
    "                    \"build\": \"19B88\",\n",
    "                    \"darwin\": \"19.0.0\",\n",
    "                    \"released\": \"2019-10-29\"\n",
    "                },\n",
    "                {\n",
    "                    \"version\": \"10.15.2\",\n",
    "                    \"build\": \"19C57\",\n",
    "                    \"darwin\": \"19.2.0\",\n",
    "                    \"released\": \"2019-12-10\"\n",
    "                },\n",
    "                {\n",
    "                    \"version\": \"10.15.3\",\n",
    "                    \"build\": \"19D76\",\n",
    "                    \"darwin\": \"19.3.0\",\n",
    "                    \"released\": \"2020-01-28\"\n",
    "                },\n",
    "                {\n",
    "                    \"version\": \"10.15.4\",\n",
    "                    \"build\": \"19E266\",\n",
    "                    \"darwin\": \"19.4.0\",\n",
    "                    \"released\": \"2020-03-24\"\n",
    "                },\n",
    "                {\n",
    "                    \"version\": \"10.15.5\",\n",
    "                    \"build\": \"19F96\",\n",
    "                    \"darwin\": \"19.5.0\",\n",
    "                    \"released\": \"2020-05-26\"\n",
    "                }\n",
    "            ]\n",
    "        }\n",
    "    ]\n",
    "}"
   ]
  },
  {
   "cell_type": "code",
   "execution_count": null,
   "id": "9bd32312",
   "metadata": {},
   "outputs": [],
   "source": [
    "darwins_list =[]\n"
   ]
  },
  {
   "cell_type": "code",
   "execution_count": 132,
   "id": "7d771cc3",
   "metadata": {},
   "outputs": [
    {
     "ename": "KeyError",
     "evalue": "'version'",
     "output_type": "error",
     "traceback": [
      "\u001b[0;31m---------------------------------------------------------------------------\u001b[0m",
      "\u001b[0;31mKeyError\u001b[0m                                  Traceback (most recent call last)",
      "Cell \u001b[0;32mIn[132], line 1\u001b[0m\n\u001b[0;32m----> 1\u001b[0m \u001b[43mdata2\u001b[49m\u001b[43m[\u001b[49m\u001b[38;5;124;43m'\u001b[39;49m\u001b[38;5;124;43mversion\u001b[39;49m\u001b[38;5;124;43m'\u001b[39;49m\u001b[43m]\u001b[49m[\u001b[38;5;241m0\u001b[39m][\u001b[38;5;124m'\u001b[39m\u001b[38;5;124mrelease\u001b[39m\u001b[38;5;124m'\u001b[39m][\u001b[38;5;241m0\u001b[39m][\u001b[38;5;124m'\u001b[39m\u001b[38;5;124mdarwin\u001b[39m\u001b[38;5;124m'\u001b[39m]\n",
      "\u001b[0;31mKeyError\u001b[0m: 'version'"
     ]
    }
   ],
   "source": [
    "data2['version'][0]['release'][0]['darwin']"
   ]
  },
  {
   "cell_type": "code",
   "execution_count": null,
   "id": "7479921d",
   "metadata": {},
   "outputs": [],
   "source": []
  },
  {
   "cell_type": "code",
   "execution_count": null,
   "id": "90dd0c4f",
   "metadata": {},
   "outputs": [],
   "source": []
  },
  {
   "cell_type": "code",
   "execution_count": null,
   "id": "b2a20fd1",
   "metadata": {},
   "outputs": [],
   "source": []
  },
  {
   "cell_type": "code",
   "execution_count": 24,
   "id": "a801f707",
   "metadata": {},
   "outputs": [
    {
     "name": "stdout",
     "output_type": "stream",
     "text": [
      "Mojave\n",
      "  iMac (Late 2012 or newer)\n",
      "  iMac Pro (2017)\n",
      "  Mac Mini (Late 2012 or newer)\n",
      "  Mac Pro (Late 2013; Mid 2010 and Mid 2012 models with recommended Metal-capable graphics cards)\n",
      "  MacBook (Early 2015 or newer)\n",
      "  MacBook Air (Mid 2012 or newer)\n",
      "  MacBook Pro (Mid 2012 or newer)\n",
      "  2 GB of memory\n",
      "  12.5 - 18.5 GB of available avaialable disk space\n",
      "  OS X 10.8 or later\n",
      "Catalina\n",
      "  iMac (Late 2012 or newer)\n",
      "  iMac Pro (2017)\n",
      "  Mac Mini (Late 2012 or newer)\n",
      "  Mac Pro (Late 2013)\n",
      "  MacBook (Early 2015 or newer)\n",
      "  MacBook Air (Mid 2012 or newer)\n",
      "  MacBook Pro (Mid 2012 or newer)\n",
      "  4 GB of memory\n",
      "  12.5 GB of available avaialable disk space\n",
      "  OS X 10.11.5 or later\n"
     ]
    }
   ],
   "source": [
    "for _version in data2[\"versions\"]: \n",
    "    print(_version[\"codename\"])\n",
    "    for _requirement in _version[\"requirements\"]: \n",
    "        print(\"  \" + _requirement)"
   ]
  },
  {
   "cell_type": "code",
   "execution_count": null,
   "id": "8124e150",
   "metadata": {},
   "outputs": [],
   "source": []
  },
  {
   "cell_type": "code",
   "execution_count": null,
   "id": "f4ae892f",
   "metadata": {},
   "outputs": [],
   "source": []
  },
  {
   "cell_type": "code",
   "execution_count": null,
   "id": "05212091",
   "metadata": {},
   "outputs": [],
   "source": []
  }
 ],
 "metadata": {
  "kernelspec": {
   "display_name": "(learn-env)",
   "language": "python",
   "name": "learn-env"
  },
  "language_info": {
   "codemirror_mode": {
    "name": "ipython",
    "version": 3
   },
   "file_extension": ".py",
   "mimetype": "text/x-python",
   "name": "python",
   "nbconvert_exporter": "python",
   "pygments_lexer": "ipython3",
   "version": "3.8.15"
  }
 },
 "nbformat": 4,
 "nbformat_minor": 5
}
